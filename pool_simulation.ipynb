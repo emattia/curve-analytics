{
 "cells": [
  {
   "cell_type": "markdown",
   "id": "ea15c2bc-b554-47a8-b848-fcd177385ed2",
   "metadata": {},
   "source": [
    "# Objectives\n",
    "* Create a Python object that we can use to manage state and simulate the behavior of Curve pools. We want to do this to:\n",
    "    * Understand how perturbing pool parameters affects pool metrics \n",
    "        * e.g. For a pool with two assets I want to be observe the price impact on asset X when I add/subtract some amount of asset X. I want to produce the plots of reserves vs. price and delta_reserves vs. price.\n",
    "    * Integrate with systems to import on-chain state into the data structures we define for modeling AMM pools. For example, I want this so I can use historical data Thrackle is gathering about Curve pools to contextualize IRL events with scenarios we want to simulate."
   ]
  },
  {
   "cell_type": "markdown",
   "id": "fdeda18b-c3ae-4eda-9b95-a45b84e2e614",
   "metadata": {},
   "source": [
    "# Brainstorm: what is the right data structure for us to design as an abstract representation of an AMM pool? \n",
    "\n",
    "\"Bad programmers worry about the code. Good programmers worry about data structures and their relationships.\" - Linus Torvalds\n",
    "\n",
    "Let's start by thinking about the smart contract structure for a pool in:\n",
    "1. Curve\n",
    "2. Uniswap\n",
    "\n",
    "The framework for each of these should be extensible to modeling AMM pools from other protocols too. \n",
    "\n",
    "## What is the data structure (abstract class) that best represents a generic AMM pool? \n",
    "* Observation: Most of our questions tend to revolve around understanding the state machine of a single pool. \n",
    "* Observation: There are state machines at several levels: consensus, protocol/app, pool.\n",
    "    * Decision: It makes sense to start specific and then broaden out for this project. Thrackle already has several projects in flight to understand the protocol/app layer. We want to start by modeling a more narrow, granular system - namely an indivdual AMM pool.  \n",
    "\n",
    "## Exercise TODO: enumerate the types of events relevant to Curve and Uniswap contracts. \n",
    "* How do we represent these events in our data structure? \n",
    "    * Which events are common to all AMMs and belong in the abstract class?\n",
    "    * Which events have unique implementations in each AMM and belong in child classes (e.g. CurveCryptoPool(Pool)). "
   ]
  },
  {
   "cell_type": "code",
   "execution_count": 30,
   "id": "9f7bbbc7-7dc3-4a94-a4d8-1c1ead07579d",
   "metadata": {},
   "outputs": [],
   "source": [
    "from typing import Union, Optional, List\n",
    "from abc import ABC, abstractmethod\n",
    "\n",
    "class Pool(ABC): \n",
    "    \n",
    "    '''\n",
    "    Abstract class for a specific protocol's flavor of AMM pool.\n",
    "    '''\n",
    "    \n",
    "    def __init__(self, \n",
    "                 token_symbols : List[str], \n",
    "                 token_prices : List[float],\n",
    "                 token_balances : List[int] = None,\n",
    "                 exchange_fee : float = 0.0) -> None:\n",
    "        \n",
    "        ### TODO: Think about __init__ pool state by reading on-chain data.\n",
    "        ###       This is going to be child class-specific. What is interface? \n",
    "                  \n",
    "        self.token_symbols = token_symbols\n",
    "        self.token_prices = token_prices\n",
    "        self.token_balances = token_balances\n",
    "        \n",
    "    def _get_token_id(self, symbol : str) -> int:\n",
    "        return self.token_symbols.index(symbol)\n",
    "    \n",
    "    def __str__(self) -> str:\n",
    "        return \"\\n\".join([\n",
    "            f\"{s} has balance {b} at price {p}\"\n",
    "            for s, b, p in zip(self.token_symbols, self.token_balances, self.token_prices)\n",
    "        ])\n",
    "    \n",
    "    @abstractmethod\n",
    "    def add_liquidity(self, add_amounts : Union[int, List[int]]) -> None:\n",
    "        raise NotImplementedError\n",
    "    \n",
    "    @abstractmethod\n",
    "    def withdraw_liquidity(self, withdraw_amounts : Union[int, List[int]]) -> None:\n",
    "        raise NotImplementedError\n",
    "    \n",
    "    @abstractmethod\n",
    "    def exchange(self, \n",
    "                 sell_token_symbol : str,\n",
    "                 buy_token_symbol : str,\n",
    "                 sell_amount : int,\n",
    "                 buy_amount : int) -> None:\n",
    "        raise NotImplementedError\n",
    "    \n",
    "    @property\n",
    "    def exchange_fee(self) -> float:\n",
    "        return self._exchange_fee\n",
    "\n",
    "    @exchange_fee.setter\n",
    "    def exchange_fee(self, fee : float) -> None:\n",
    "        if fee < 0:\n",
    "            raise ValueError(\"Negative fees feels like questionable mechanism design...\")\n",
    "        self._exchange_fee = fee"
   ]
  },
  {
   "cell_type": "code",
   "execution_count": 37,
   "id": "5604142d-b8b6-4d92-a211-18ff29e31e7b",
   "metadata": {},
   "outputs": [],
   "source": [
    "from typing import Union, Optional, List\n",
    "\n",
    "class FakePool(Pool):\n",
    "    \n",
    "    def __init__(self, \n",
    "                 token_symbols : List[str], \n",
    "                 token_prices : List[float],\n",
    "                 token_balances : List[int] = None,\n",
    "                 exchange_fee : float = 0.0,\n",
    "                 pool_params : dict = {}) -> None:\n",
    "\n",
    "        super().__init__(token_symbols, token_prices, token_balances, exchange_fee)\n",
    "        self.pool_params = pool_params\n",
    "        \n",
    "    def add_liquidity(self, \n",
    "                      symbol : Optional[str],\n",
    "                      add_amounts : Union[int, List[int]]) -> None:\n",
    "        pass\n",
    "    \n",
    "    def withdraw_liquidity(self, \n",
    "                           symbol : Optional[str],\n",
    "                           withdraw_amounts : Union[int, List[int]]) -> None:\n",
    "        pass\n",
    "    \n",
    "    def exchange(self, \n",
    "                 sell_token_symbol : str,\n",
    "                 buy_token_symbol : str,\n",
    "                 sell_amount : int,\n",
    "                 buy_amount : int) -> None:\n",
    "        \n",
    "        sell_token_id = self._get_token_id(sell_token_symbol)\n",
    "        buy_token_id = self._get_token_id(buy_token_symbol)\n",
    "        \n",
    "        # There is no notion of address to send/receive funds to/from.\n",
    "        self.token_balances[sell_token_id] -= sell_amount\n",
    "        self.token_balances[buy_token_id] -= buy_amount\n",
    "        \n",
    "        # There is no price update. This fake pool is an arbitrage goldmine! \n",
    "        \n",
    "\n",
    "fake_pool = FakePool(\n",
    "    token_symbols = [\"token 1\", \"token 2\"],\n",
    "    token_prices = [1, 2],\n",
    "    token_balances = [200, 100],\n",
    "    exchange_fee = 0.05\n",
    ")"
   ]
  },
  {
   "cell_type": "code",
   "execution_count": 38,
   "id": "d44b4e44-ad96-4d9b-9e9f-5aee439331c6",
   "metadata": {},
   "outputs": [
    {
     "data": {
      "text/plain": [
       "1"
      ]
     },
     "execution_count": 38,
     "metadata": {},
     "output_type": "execute_result"
    }
   ],
   "source": [
    "fake_pool._get_token_id(\"token 2\")"
   ]
  },
  {
   "cell_type": "code",
   "execution_count": 39,
   "id": "6d73d6e3-92d8-4c68-ba95-cb0776352525",
   "metadata": {},
   "outputs": [
    {
     "name": "stdout",
     "output_type": "stream",
     "text": [
      "token 1 has balance 200 at price 1\n",
      "token 2 has balance 100 at price 2\n"
     ]
    }
   ],
   "source": [
    "print(fake_pool)"
   ]
  },
  {
   "cell_type": "code",
   "execution_count": 40,
   "id": "bc4e87d8-bb6a-4588-95fd-1c126c51343a",
   "metadata": {},
   "outputs": [
    {
     "name": "stdout",
     "output_type": "stream",
     "text": [
      "token 1 has balance 180 at price 1\n",
      "token 2 has balance 90 at price 2\n"
     ]
    }
   ],
   "source": [
    "# For a pool with two assets I want to be observe the price impact on asset X when I add/subtract some amount of asset X. \n",
    "# I want to produce the plots of reserves vs. price and delta_reserves vs. price.\n",
    "\n",
    "fake_pool.exchange(\"token 1\", \"token 2\", 20, 10)\n",
    "print(fake_pool)"
   ]
  },
  {
   "cell_type": "markdown",
   "id": "191c1195-2aef-4c38-906a-ceadf3374707",
   "metadata": {},
   "source": [
    "## Curve"
   ]
  },
  {
   "cell_type": "code",
   "execution_count": null,
   "id": "770aef07-d347-47e2-85da-112835de4c63",
   "metadata": {},
   "outputs": [],
   "source": [
    "from typing import Union, Optional, List\n",
    "\n",
    "class CurveTricryptoPool(Pool):\n",
    "    \n",
    "    def __init__(self, \n",
    "                 token_symbols : List[str], \n",
    "                 token_prices : List[float],\n",
    "                 token_balances : List[int] = None,\n",
    "                 exchange_fee : float = 0.0,\n",
    "                 pool_params : dict = {}) -> None:\n",
    "\n",
    "        super().__init__(token_symbols, token_prices, token_balances, exchange_fee)\n",
    "        self.pool_params = pool_params\n",
    "        \n",
    "    def tweak_price(self,\n",
    "                    A_gamma : int = None,\n",
    "                    _xp : list[int] = None,\n",
    "                    i : int = None, \n",
    "                    p_i : int = None, \n",
    "                    new_D : int = None) -> None:\n",
    "        '''\n",
    "        This is a function in the real Curve smart contracts.\n",
    "        https://github.com/curvefi/curve-crypto-contract/blob/master/contracts/tricrypto/CurveCryptoSwap.vy#L434\n",
    "        \n",
    "        :param int A_gamma \n",
    "        :param list[int] _xp\n",
    "        :param int i\n",
    "        :param int p_i \n",
    "        :param int new_D\n",
    "        '''\n",
    "        \n",
    "        ### refactor of curve crypto pool tweak_price\n",
    "        # TODO: read https://vyper.readthedocs.io/en/v0.2.12/built-in-functions.html#bitwise-operations\n",
    "        # TODO: understand how price scales need to be reflected in this pool\n",
    "        # TODO: select contract's self.state_vars needed in this classes self.state_vars\n",
    "        \n",
    "        pass\n",
    "    \n",
    "        \n",
    "        \n",
    "    def add_liquidity(self, \n",
    "                      symbol : Optional[str],\n",
    "                      add_amounts : Union[int, List[int]]) -> None:\n",
    "        pass\n",
    "    \n",
    "    def withdraw_liquidity(self, \n",
    "                           symbol : Optional[str],\n",
    "                           withdraw_amounts : Union[int, List[int]]) -> None:\n",
    "        pass\n",
    "    \n",
    "    def exchange(self, \n",
    "                 sell_token_symbol : str,\n",
    "                 buy_token_symbol : str,\n",
    "                 sell_amount : int,\n",
    "                 buy_amount : int) -> None:\n",
    "        \n",
    "        sell_token_id = self._get_token_id(sell_token_symbol)\n",
    "        buy_token_id = self._get_token_id(buy_token_symbol)\n",
    "        \n",
    "        # There is no notion of address to send/receive funds to/from.\n",
    "        self.token_balances[sell_token_id] -= sell_amount\n",
    "        self.token_balances[buy_token_id] -= buy_amount\n",
    "        \n",
    "        ### dynamic repegging logic ###\n",
    "        # TODO: use EMA price oracle to update token_balances * token_prices\n",
    "        # TODO: update invariant and price scale\n",
    "        # TODO: \"repeg\" by adjusting price scale \n",
    "            # TODO: only repeg after measuring profit and comparing to actual profit"
   ]
  },
  {
   "cell_type": "markdown",
   "id": "e12ce8e9-3841-4cdb-bdc8-e52e4e710600",
   "metadata": {},
   "source": [
    "# TODO - Smart Contract Languages and OOP"
   ]
  },
  {
   "cell_type": "markdown",
   "id": "ffdf53b9-7795-4bee-a6dc-36760f008b67",
   "metadata": {},
   "source": [
    "## Curve\n",
    "\n",
    "### TODO - Understanding Vyper\n",
    "A Curve pool is a smart contract that implements the StableSwap invariant and thereby allows for the exchange of two or more tokens. Curve pool contracts are written in Vyper.  \n",
    "\n",
    "https://curve.readthedocs.io/exchange-pools.html\n",
    "\n",
    "\n",
    "Like objects in OOP, each contract written in Vyper contains state variables, functions, and common data types. \n",
    "\n",
    "The keywords in Vyper we want to understand and convert into OOP constructs are:\n",
    "* `interface`\n",
    "* `event` \n",
    "* `@view` & `@internal` & `@external`"
   ]
  },
  {
   "cell_type": "markdown",
   "id": "6f88b33d-2f4f-436c-9079-6dc9696ee8f6",
   "metadata": {},
   "source": [
    "## Uniswap\n",
    "\n",
    "### TODO - Understanding Solidity\n",
    "\n",
    "Uniswap pools primarily serve as automated market makers for the paired assets. Additionally, they expose price oracle data and may be used as an asset source for flash transactions.\n",
    "\n",
    "Uniswap is written in Solidity. \n",
    "\n",
    "https://docs.uniswap.org/protocol/reference/core/UniswapV3Pool\n",
    "\n",
    "https://docs.uniswap.org/protocol/reference/deployments\n",
    "\n",
    "You can look up the address of an existing pool on [Uniswap Info](https://info.uniswap.org/#/) or by calling the [getPool](https://docs.uniswap.org/protocol/reference/core/interfaces/IUniswapV3Factory#getpool) function on the UniswapV3Factory contract."
   ]
  }
 ],
 "metadata": {
  "kernelspec": {
   "display_name": "Python 3 (ipykernel)",
   "language": "python",
   "name": "python3"
  },
  "language_info": {
   "codemirror_mode": {
    "name": "ipython",
    "version": 3
   },
   "file_extension": ".py",
   "mimetype": "text/x-python",
   "name": "python",
   "nbconvert_exporter": "python",
   "pygments_lexer": "ipython3",
   "version": "3.8.9"
  }
 },
 "nbformat": 4,
 "nbformat_minor": 5
}
